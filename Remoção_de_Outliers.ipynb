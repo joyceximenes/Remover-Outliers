{
  "nbformat": 4,
  "nbformat_minor": 0,
  "metadata": {
    "colab": {
      "provenance": [],
      "authorship_tag": "ABX9TyNlynis1bz6Oubq+6sWOsRY"
    },
    "kernelspec": {
      "name": "python3",
      "display_name": "Python 3"
    },
    "language_info": {
      "name": "python"
    }
  },
  "cells": [
    {
      "cell_type": "code",
      "execution_count": null,
      "metadata": {
        "colab": {
          "base_uri": "https://localhost:8080/"
        },
        "id": "cjJv706QcVRw",
        "outputId": "26eb3de3-7209-49e8-a282-75b31d990c02"
      },
      "outputs": [
        {
          "output_type": "stream",
          "name": "stdout",
          "text": [
            "Looking in indexes: https://pypi.org/simple, https://us-python.pkg.dev/colab-wheels/public/simple/\n",
            "Collecting pyod\n",
            "  Downloading pyod-1.0.7.tar.gz (147 kB)\n",
            "\u001b[2K     \u001b[90m━━━━━━━━━━━━━━━━━━━━━━━━━━━━━━━━━━━━━━━\u001b[0m \u001b[32m147.7/147.7 KB\u001b[0m \u001b[31m3.6 MB/s\u001b[0m eta \u001b[36m0:00:00\u001b[0m\n",
            "\u001b[?25h  Preparing metadata (setup.py) ... \u001b[?25l\u001b[?25hdone\n",
            "Requirement already satisfied: joblib in /usr/local/lib/python3.8/dist-packages (from pyod) (1.2.0)\n",
            "Requirement already satisfied: matplotlib in /usr/local/lib/python3.8/dist-packages (from pyod) (3.2.2)\n",
            "Requirement already satisfied: numpy>=1.19 in /usr/local/lib/python3.8/dist-packages (from pyod) (1.21.6)\n",
            "Requirement already satisfied: numba>=0.51 in /usr/local/lib/python3.8/dist-packages (from pyod) (0.56.4)\n",
            "Requirement already satisfied: scipy>=1.5.1 in /usr/local/lib/python3.8/dist-packages (from pyod) (1.7.3)\n",
            "Requirement already satisfied: scikit_learn>=0.20.0 in /usr/local/lib/python3.8/dist-packages (from pyod) (1.0.2)\n",
            "Requirement already satisfied: six in /usr/local/lib/python3.8/dist-packages (from pyod) (1.15.0)\n",
            "Requirement already satisfied: statsmodels in /usr/local/lib/python3.8/dist-packages (from pyod) (0.12.2)\n",
            "Requirement already satisfied: llvmlite<0.40,>=0.39.0dev0 in /usr/local/lib/python3.8/dist-packages (from numba>=0.51->pyod) (0.39.1)\n",
            "Requirement already satisfied: setuptools in /usr/local/lib/python3.8/dist-packages (from numba>=0.51->pyod) (57.4.0)\n",
            "Requirement already satisfied: importlib-metadata in /usr/local/lib/python3.8/dist-packages (from numba>=0.51->pyod) (6.0.0)\n",
            "Requirement already satisfied: threadpoolctl>=2.0.0 in /usr/local/lib/python3.8/dist-packages (from scikit_learn>=0.20.0->pyod) (3.1.0)\n",
            "Requirement already satisfied: pyparsing!=2.0.4,!=2.1.2,!=2.1.6,>=2.0.1 in /usr/local/lib/python3.8/dist-packages (from matplotlib->pyod) (3.0.9)\n",
            "Requirement already satisfied: kiwisolver>=1.0.1 in /usr/local/lib/python3.8/dist-packages (from matplotlib->pyod) (1.4.4)\n",
            "Requirement already satisfied: cycler>=0.10 in /usr/local/lib/python3.8/dist-packages (from matplotlib->pyod) (0.11.0)\n",
            "Requirement already satisfied: python-dateutil>=2.1 in /usr/local/lib/python3.8/dist-packages (from matplotlib->pyod) (2.8.2)\n",
            "Requirement already satisfied: patsy>=0.5 in /usr/local/lib/python3.8/dist-packages (from statsmodels->pyod) (0.5.3)\n",
            "Requirement already satisfied: pandas>=0.21 in /usr/local/lib/python3.8/dist-packages (from statsmodels->pyod) (1.3.5)\n",
            "Requirement already satisfied: pytz>=2017.3 in /usr/local/lib/python3.8/dist-packages (from pandas>=0.21->statsmodels->pyod) (2022.7.1)\n",
            "Requirement already satisfied: zipp>=0.5 in /usr/local/lib/python3.8/dist-packages (from importlib-metadata->numba>=0.51->pyod) (3.12.0)\n",
            "Building wheels for collected packages: pyod\n",
            "  Building wheel for pyod (setup.py) ... \u001b[?25l\u001b[?25hdone\n",
            "  Created wheel for pyod: filename=pyod-1.0.7-py3-none-any.whl size=181101 sha256=c3b258fa0823581be77a98cdb7c711f47a5740c4f1c2dd9c7e49ed1abf4714b2\n",
            "  Stored in directory: /root/.cache/pip/wheels/f7/e2/c1/1c7fd8b261e72411f6509afb429c84532e40ddcd96074473f4\n",
            "Successfully built pyod\n",
            "Installing collected packages: pyod\n",
            "Successfully installed pyod-1.0.7\n"
          ]
        }
      ],
      "source": [
        "# biblioteca de remoção\n",
        "!pip install pyod"
      ]
    },
    {
      "cell_type": "code",
      "source": [
        "import pandas as pd\n",
        "import numpy as np\n",
        "import matplotlib.pyplot as plt\n",
        "import seaborn as sns\n",
        "\n",
        "# gerar dados\n",
        "from pyod.utils.data import generate_data"
      ],
      "metadata": {
        "id": "RvwQcvrFegNY"
      },
      "execution_count": null,
      "outputs": []
    },
    {
      "cell_type": "code",
      "source": [
        "# dados sinteticos outliners\n",
        "dados_x, dados_y = generate_data(n_train=1000, train_only=True, n_features=2)\n",
        "                                # amostras de treinamento, so dados de treinamento (sem teste), cada amostra terá 2 caracteristicas\n",
        "\n",
        "# coletar os eixos\n",
        "# selecionando todas as linhas e apenas a primeira coluna, transformando em varias linhas (-1) e so uma coluna (1)\n",
        "eixo_x = dados_x[:,[0]].reshape(-1,1)\n",
        "# selecionando todas as linhas e apenas a segunda coluna, transformando em varias linhas (-1) e so uma coluna (1)\n",
        "eixo_y = dados_x[:,[1]].reshape(-1,1)\n",
        "\n",
        "# tabela\n",
        "# criação da tabela a partir dos dados do eixo x, onde ficara na coluna 'Eixo X'\n",
        "tabela = pd.DataFrame(eixo_x, columns=['Eixo X'])\n",
        "# nova coluna chamada 'Eixo Y' com os dados de eixo_y\n",
        "tabela['Eixo Y'] = eixo_y\n",
        "# nova coluna chamada 'Classe' com os dados de dados_y\n",
        "tabela['Classe'] = dados_y # vai mostrar outliners como 1 e nao outliners como 0\n",
        "tabela.head()"
      ],
      "metadata": {
        "colab": {
          "base_uri": "https://localhost:8080/",
          "height": 206
        },
        "id": "l1qkOAZSe8Wj",
        "outputId": "6c7d7a8e-0019-47c0-e325-5c21a9b0c395"
      },
      "execution_count": null,
      "outputs": [
        {
          "output_type": "execute_result",
          "data": {
            "text/plain": [
              "     Eixo X    Eixo Y  Classe\n",
              "0  9.247007  9.677774     0.0\n",
              "1  9.069835  8.996727     0.0\n",
              "2  7.888721  8.769828     0.0\n",
              "3  9.373601  8.424567     0.0\n",
              "4  8.442967  8.995760     0.0"
            ],
            "text/html": [
              "\n",
              "  <div id=\"df-62da8224-8356-4d99-9db3-c0ceb42d74bc\">\n",
              "    <div class=\"colab-df-container\">\n",
              "      <div>\n",
              "<style scoped>\n",
              "    .dataframe tbody tr th:only-of-type {\n",
              "        vertical-align: middle;\n",
              "    }\n",
              "\n",
              "    .dataframe tbody tr th {\n",
              "        vertical-align: top;\n",
              "    }\n",
              "\n",
              "    .dataframe thead th {\n",
              "        text-align: right;\n",
              "    }\n",
              "</style>\n",
              "<table border=\"1\" class=\"dataframe\">\n",
              "  <thead>\n",
              "    <tr style=\"text-align: right;\">\n",
              "      <th></th>\n",
              "      <th>Eixo X</th>\n",
              "      <th>Eixo Y</th>\n",
              "      <th>Classe</th>\n",
              "    </tr>\n",
              "  </thead>\n",
              "  <tbody>\n",
              "    <tr>\n",
              "      <th>0</th>\n",
              "      <td>9.247007</td>\n",
              "      <td>9.677774</td>\n",
              "      <td>0.0</td>\n",
              "    </tr>\n",
              "    <tr>\n",
              "      <th>1</th>\n",
              "      <td>9.069835</td>\n",
              "      <td>8.996727</td>\n",
              "      <td>0.0</td>\n",
              "    </tr>\n",
              "    <tr>\n",
              "      <th>2</th>\n",
              "      <td>7.888721</td>\n",
              "      <td>8.769828</td>\n",
              "      <td>0.0</td>\n",
              "    </tr>\n",
              "    <tr>\n",
              "      <th>3</th>\n",
              "      <td>9.373601</td>\n",
              "      <td>8.424567</td>\n",
              "      <td>0.0</td>\n",
              "    </tr>\n",
              "    <tr>\n",
              "      <th>4</th>\n",
              "      <td>8.442967</td>\n",
              "      <td>8.995760</td>\n",
              "      <td>0.0</td>\n",
              "    </tr>\n",
              "  </tbody>\n",
              "</table>\n",
              "</div>\n",
              "      <button class=\"colab-df-convert\" onclick=\"convertToInteractive('df-62da8224-8356-4d99-9db3-c0ceb42d74bc')\"\n",
              "              title=\"Convert this dataframe to an interactive table.\"\n",
              "              style=\"display:none;\">\n",
              "        \n",
              "  <svg xmlns=\"http://www.w3.org/2000/svg\" height=\"24px\"viewBox=\"0 0 24 24\"\n",
              "       width=\"24px\">\n",
              "    <path d=\"M0 0h24v24H0V0z\" fill=\"none\"/>\n",
              "    <path d=\"M18.56 5.44l.94 2.06.94-2.06 2.06-.94-2.06-.94-.94-2.06-.94 2.06-2.06.94zm-11 1L8.5 8.5l.94-2.06 2.06-.94-2.06-.94L8.5 2.5l-.94 2.06-2.06.94zm10 10l.94 2.06.94-2.06 2.06-.94-2.06-.94-.94-2.06-.94 2.06-2.06.94z\"/><path d=\"M17.41 7.96l-1.37-1.37c-.4-.4-.92-.59-1.43-.59-.52 0-1.04.2-1.43.59L10.3 9.45l-7.72 7.72c-.78.78-.78 2.05 0 2.83L4 21.41c.39.39.9.59 1.41.59.51 0 1.02-.2 1.41-.59l7.78-7.78 2.81-2.81c.8-.78.8-2.07 0-2.86zM5.41 20L4 18.59l7.72-7.72 1.47 1.35L5.41 20z\"/>\n",
              "  </svg>\n",
              "      </button>\n",
              "      \n",
              "  <style>\n",
              "    .colab-df-container {\n",
              "      display:flex;\n",
              "      flex-wrap:wrap;\n",
              "      gap: 12px;\n",
              "    }\n",
              "\n",
              "    .colab-df-convert {\n",
              "      background-color: #E8F0FE;\n",
              "      border: none;\n",
              "      border-radius: 50%;\n",
              "      cursor: pointer;\n",
              "      display: none;\n",
              "      fill: #1967D2;\n",
              "      height: 32px;\n",
              "      padding: 0 0 0 0;\n",
              "      width: 32px;\n",
              "    }\n",
              "\n",
              "    .colab-df-convert:hover {\n",
              "      background-color: #E2EBFA;\n",
              "      box-shadow: 0px 1px 2px rgba(60, 64, 67, 0.3), 0px 1px 3px 1px rgba(60, 64, 67, 0.15);\n",
              "      fill: #174EA6;\n",
              "    }\n",
              "\n",
              "    [theme=dark] .colab-df-convert {\n",
              "      background-color: #3B4455;\n",
              "      fill: #D2E3FC;\n",
              "    }\n",
              "\n",
              "    [theme=dark] .colab-df-convert:hover {\n",
              "      background-color: #434B5C;\n",
              "      box-shadow: 0px 1px 3px 1px rgba(0, 0, 0, 0.15);\n",
              "      filter: drop-shadow(0px 1px 2px rgba(0, 0, 0, 0.3));\n",
              "      fill: #FFFFFF;\n",
              "    }\n",
              "  </style>\n",
              "\n",
              "      <script>\n",
              "        const buttonEl =\n",
              "          document.querySelector('#df-62da8224-8356-4d99-9db3-c0ceb42d74bc button.colab-df-convert');\n",
              "        buttonEl.style.display =\n",
              "          google.colab.kernel.accessAllowed ? 'block' : 'none';\n",
              "\n",
              "        async function convertToInteractive(key) {\n",
              "          const element = document.querySelector('#df-62da8224-8356-4d99-9db3-c0ceb42d74bc');\n",
              "          const dataTable =\n",
              "            await google.colab.kernel.invokeFunction('convertToInteractive',\n",
              "                                                     [key], {});\n",
              "          if (!dataTable) return;\n",
              "\n",
              "          const docLinkHtml = 'Like what you see? Visit the ' +\n",
              "            '<a target=\"_blank\" href=https://colab.research.google.com/notebooks/data_table.ipynb>data table notebook</a>'\n",
              "            + ' to learn more about interactive tables.';\n",
              "          element.innerHTML = '';\n",
              "          dataTable['output_type'] = 'display_data';\n",
              "          await google.colab.output.renderOutput(dataTable, element);\n",
              "          const docLink = document.createElement('div');\n",
              "          docLink.innerHTML = docLinkHtml;\n",
              "          element.appendChild(docLink);\n",
              "        }\n",
              "      </script>\n",
              "    </div>\n",
              "  </div>\n",
              "  "
            ]
          },
          "metadata": {},
          "execution_count": 14
        }
      ]
    },
    {
      "cell_type": "code",
      "source": [
        "tabela['Classe'].value_counts(normalize=True) * 100"
      ],
      "metadata": {
        "colab": {
          "base_uri": "https://localhost:8080/"
        },
        "id": "FJwEDFq7jiC2",
        "outputId": "c921405a-baf1-44ab-cd61-4a06f027edc5"
      },
      "execution_count": null,
      "outputs": [
        {
          "output_type": "execute_result",
          "data": {
            "text/plain": [
              "0.0    90.0\n",
              "1.0    10.0\n",
              "Name: Classe, dtype: float64"
            ]
          },
          "metadata": {},
          "execution_count": 28
        }
      ]
    },
    {
      "cell_type": "code",
      "source": [
        "# plotar um grafico\n",
        "plt.style.use('ggplot')\n",
        "plt.figure(figsize=(10, 5))\n",
        "plt.title('Avaliando os valores gerados')\n",
        "\n",
        "sns.scatterplot(data=tabela, x = 'Eixo X', y = 'Eixo Y', hue= 'Classe'); # hue: divisão "
      ],
      "metadata": {
        "colab": {
          "base_uri": "https://localhost:8080/",
          "height": 354
        },
        "id": "q-QSW2idkIOz",
        "outputId": "d4192037-2b5b-4906-bf4d-bcd702984826"
      },
      "execution_count": null,
      "outputs": [
        {
          "output_type": "display_data",
          "data": {
            "text/plain": [
              "<Figure size 720x360 with 1 Axes>"
            ],
            "image/png": "[encoded data removed]"
          },
          "metadata": {}
        }
      ]
    },
    {
      "cell_type": "markdown",
      "source": [
        "os azuis são os outliers"
      ],
      "metadata": {
        "id": "s_pK5u8NlQQG"
      }
    },
    {
      "cell_type": "code",
      "source": [
        "tabela.describe()"
      ],
      "metadata": {
        "colab": {
          "base_uri": "https://localhost:8080/",
          "height": 300
        },
        "id": "VlY3YcSslP_h",
        "outputId": "1a056597-d9e1-4b3c-e22b-44c088cb5f18"
      },
      "execution_count": null,
      "outputs": [
        {
          "output_type": "execute_result",
          "data": {
            "text/plain": [
              "            Eixo X       Eixo Y      Classe\n",
              "count  1000.000000  1000.000000  1000.00000\n",
              "mean      8.098444     8.030384     0.10000\n",
              "std       3.134313     3.333171     0.30015\n",
              "min      -8.395866    -8.566828     0.00000\n",
              "25%       8.457780     8.450594     0.00000\n",
              "50%       8.934096     8.892730     0.00000\n",
              "75%       9.320741     9.260453     0.00000\n",
              "max      10.538146    10.944404     1.00000"
            ],
            "text/html": [
              "\n",
              "  <div id=\"df-6e7528ce-3b26-4dfd-839f-3e1303b6f7a5\">\n",
              "    <div class=\"colab-df-container\">\n",
              "      <div>\n",
              "<style scoped>\n",
              "    .dataframe tbody tr th:only-of-type {\n",
              "        vertical-align: middle;\n",
              "    }\n",
              "\n",
              "    .dataframe tbody tr th {\n",
              "        vertical-align: top;\n",
              "    }\n",
              "\n",
              "    .dataframe thead th {\n",
              "        text-align: right;\n",
              "    }\n",
              "</style>\n",
              "<table border=\"1\" class=\"dataframe\">\n",
              "  <thead>\n",
              "    <tr style=\"text-align: right;\">\n",
              "      <th></th>\n",
              "      <th>Eixo X</th>\n",
              "      <th>Eixo Y</th>\n",
              "      <th>Classe</th>\n",
              "    </tr>\n",
              "  </thead>\n",
              "  <tbody>\n",
              "    <tr>\n",
              "      <th>count</th>\n",
              "      <td>1000.000000</td>\n",
              "      <td>1000.000000</td>\n",
              "      <td>1000.00000</td>\n",
              "    </tr>\n",
              "    <tr>\n",
              "      <th>mean</th>\n",
              "      <td>8.098444</td>\n",
              "      <td>8.030384</td>\n",
              "      <td>0.10000</td>\n",
              "    </tr>\n",
              "    <tr>\n",
              "      <th>std</th>\n",
              "      <td>3.134313</td>\n",
              "      <td>3.333171</td>\n",
              "      <td>0.30015</td>\n",
              "    </tr>\n",
              "    <tr>\n",
              "      <th>min</th>\n",
              "      <td>-8.395866</td>\n",
              "      <td>-8.566828</td>\n",
              "      <td>0.00000</td>\n",
              "    </tr>\n",
              "    <tr>\n",
              "      <th>25%</th>\n",
              "      <td>8.457780</td>\n",
              "      <td>8.450594</td>\n",
              "      <td>0.00000</td>\n",
              "    </tr>\n",
              "    <tr>\n",
              "      <th>50%</th>\n",
              "      <td>8.934096</td>\n",
              "      <td>8.892730</td>\n",
              "      <td>0.00000</td>\n",
              "    </tr>\n",
              "    <tr>\n",
              "      <th>75%</th>\n",
              "      <td>9.320741</td>\n",
              "      <td>9.260453</td>\n",
              "      <td>0.00000</td>\n",
              "    </tr>\n",
              "    <tr>\n",
              "      <th>max</th>\n",
              "      <td>10.538146</td>\n",
              "      <td>10.944404</td>\n",
              "      <td>1.00000</td>\n",
              "    </tr>\n",
              "  </tbody>\n",
              "</table>\n",
              "</div>\n",
              "      <button class=\"colab-df-convert\" onclick=\"convertToInteractive('df-6e7528ce-3b26-4dfd-839f-3e1303b6f7a5')\"\n",
              "              title=\"Convert this dataframe to an interactive table.\"\n",
              "              style=\"display:none;\">\n",
              "        \n",
              "  <svg xmlns=\"http://www.w3.org/2000/svg\" height=\"24px\"viewBox=\"0 0 24 24\"\n",
              "       width=\"24px\">\n",
              "    <path d=\"M0 0h24v24H0V0z\" fill=\"none\"/>\n",
              "    <path d=\"M18.56 5.44l.94 2.06.94-2.06 2.06-.94-2.06-.94-.94-2.06-.94 2.06-2.06.94zm-11 1L8.5 8.5l.94-2.06 2.06-.94-2.06-.94L8.5 2.5l-.94 2.06-2.06.94zm10 10l.94 2.06.94-2.06 2.06-.94-2.06-.94-.94-2.06-.94 2.06-2.06.94z\"/><path d=\"M17.41 7.96l-1.37-1.37c-.4-.4-.92-.59-1.43-.59-.52 0-1.04.2-1.43.59L10.3 9.45l-7.72 7.72c-.78.78-.78 2.05 0 2.83L4 21.41c.39.39.9.59 1.41.59.51 0 1.02-.2 1.41-.59l7.78-7.78 2.81-2.81c.8-.78.8-2.07 0-2.86zM5.41 20L4 18.59l7.72-7.72 1.47 1.35L5.41 20z\"/>\n",
              "  </svg>\n",
              "      </button>\n",
              "      \n",
              "  <style>\n",
              "    .colab-df-container {\n",
              "      display:flex;\n",
              "      flex-wrap:wrap;\n",
              "      gap: 12px;\n",
              "    }\n",
              "\n",
              "    .colab-df-convert {\n",
              "      background-color: #E8F0FE;\n",
              "      border: none;\n",
              "      border-radius: 50%;\n",
              "      cursor: pointer;\n",
              "      display: none;\n",
              "      fill: #1967D2;\n",
              "      height: 32px;\n",
              "      padding: 0 0 0 0;\n",
              "      width: 32px;\n",
              "    }\n",
              "\n",
              "    .colab-df-convert:hover {\n",
              "      background-color: #E2EBFA;\n",
              "      box-shadow: 0px 1px 2px rgba(60, 64, 67, 0.3), 0px 1px 3px 1px rgba(60, 64, 67, 0.15);\n",
              "      fill: #174EA6;\n",
              "    }\n",
              "\n",
              "    [theme=dark] .colab-df-convert {\n",
              "      background-color: #3B4455;\n",
              "      fill: #D2E3FC;\n",
              "    }\n",
              "\n",
              "    [theme=dark] .colab-df-convert:hover {\n",
              "      background-color: #434B5C;\n",
              "      box-shadow: 0px 1px 3px 1px rgba(0, 0, 0, 0.15);\n",
              "      filter: drop-shadow(0px 1px 2px rgba(0, 0, 0, 0.3));\n",
              "      fill: #FFFFFF;\n",
              "    }\n",
              "  </style>\n",
              "\n",
              "      <script>\n",
              "        const buttonEl =\n",
              "          document.querySelector('#df-6e7528ce-3b26-4dfd-839f-3e1303b6f7a5 button.colab-df-convert');\n",
              "        buttonEl.style.display =\n",
              "          google.colab.kernel.accessAllowed ? 'block' : 'none';\n",
              "\n",
              "        async function convertToInteractive(key) {\n",
              "          const element = document.querySelector('#df-6e7528ce-3b26-4dfd-839f-3e1303b6f7a5');\n",
              "          const dataTable =\n",
              "            await google.colab.kernel.invokeFunction('convertToInteractive',\n",
              "                                                     [key], {});\n",
              "          if (!dataTable) return;\n",
              "\n",
              "          const docLinkHtml = 'Like what you see? Visit the ' +\n",
              "            '<a target=\"_blank\" href=https://colab.research.google.com/notebooks/data_table.ipynb>data table notebook</a>'\n",
              "            + ' to learn more about interactive tables.';\n",
              "          element.innerHTML = '';\n",
              "          dataTable['output_type'] = 'display_data';\n",
              "          await google.colab.output.renderOutput(dataTable, element);\n",
              "          const docLink = document.createElement('div');\n",
              "          docLink.innerHTML = docLinkHtml;\n",
              "          element.appendChild(docLink);\n",
              "        }\n",
              "      </script>\n",
              "    </div>\n",
              "  </div>\n",
              "  "
            ]
          },
          "metadata": {},
          "execution_count": 30
        }
      ]
    },
    {
      "cell_type": "code",
      "source": [
        "# plotar dois graficos\n",
        "plt.figure(figsize=(17, 7));\n",
        "\n",
        "# fig 1\n",
        "plt.subplot(1,2,1)\n",
        "plt.title('Eixo X')\n",
        "sns.boxplot(data=tabela, y = 'Eixo X', width=0.35)\n",
        "\n",
        "# fig 2\n",
        "plt.subplot(1,2,2)\n",
        "plt.title('Eixo Y')\n",
        "sns.boxplot(data=tabela, y = 'Eixo Y', width=0.35)"
      ],
      "metadata": {
        "colab": {
          "base_uri": "https://localhost:8080/",
          "height": 449
        },
        "id": "YaKTJtc3koO7",
        "outputId": "7e734cac-98cd-4fbf-9868-b4ad3d2c1c69"
      },
      "execution_count": null,
      "outputs": [
        {
          "output_type": "execute_result",
          "data": {
            "text/plain": [
              "<matplotlib.axes._subplots.AxesSubplot at 0x7f396fd65220>"
            ]
          },
          "metadata": {},
          "execution_count": 31
        },
        {
          "output_type": "display_data",
          "data": {
            "text/plain": [
              "<Figure size 1224x504 with 2 Axes>"
            ],
            "image/png": "[encoded data removed]"
          },
          "metadata": {}
        }
      ]
    },
    {
      "cell_type": "code",
      "source": [
        "from math import isqrt\n",
        "# extrair os outliers\n",
        "\n",
        "# 1o quartil\n",
        "q1 = np.percentile(tabela['Eixo X'], 25, interpolation = 'midpoint')\n",
        "print(f'Primeiro quartil: {q1}')\n",
        "\n",
        "# 3o quartil\n",
        "q3 = np.percentile(tabela['Eixo X'], 75, interpolation = 'midpoint')\n",
        "print(f'Terceiro quartil: {q3}')\n",
        "\n",
        "# intervalo interquartil\n",
        "iqr = q3 - q1\n",
        "print(f'Intervalo: {iqr}')\n"
      ],
      "metadata": {
        "colab": {
          "base_uri": "https://localhost:8080/"
        },
        "id": "BrwqAGjb3Qb0",
        "outputId": "5095f249-76bc-4c34-8806-ecee5c63ef17"
      },
      "execution_count": null,
      "outputs": [
        {
          "output_type": "stream",
          "name": "stdout",
          "text": [
            "Primeiro quartil: 8.45772643088219\n",
            "Terceiro quartil: 9.321305984173215\n",
            "Intervalo: 0.8635795532910251\n"
          ]
        }
      ]
    },
    {
      "cell_type": "code",
      "source": [
        "# verificar os valores que serao excluidos, so irao permanecer os que estao entre os quartis\n",
        "superior = tabela['Eixo X'] >= (q1 + 1.5 * iqr)\n",
        "inferior = tabela['Eixo X'] <= (q3 - 1.5 * iqr)\n",
        "\n",
        "print('Valores que sao outliers')\n",
        "print(np.where(superior))\n",
        "print(np.where(inferior))"
      ],
      "metadata": {
        "colab": {
          "base_uri": "https://localhost:8080/"
        },
        "id": "vSapyEFm4q-S",
        "outputId": "96d166cd-5537-4ea7-cdff-891e24b546a1"
      },
      "execution_count": null,
      "outputs": [
        {
          "output_type": "stream",
          "name": "stdout",
          "text": [
            "Valores que sao outliers\n",
            "(array([  8,  22,  45,  57,  59,  62,  71,  85,  93,  94, 101, 105, 123,\n",
            "       141, 175, 181, 191, 199, 211, 219, 221, 224, 233, 239, 244, 248,\n",
            "       253, 255, 267, 271, 273, 282, 290, 291, 295, 298, 320, 331, 339,\n",
            "       355, 362, 413, 424, 442, 459, 465, 467, 482, 490, 495, 496, 500,\n",
            "       522, 555, 562, 612, 619, 625, 635, 639, 651, 659, 668, 670, 680,\n",
            "       691, 695, 710, 712, 737, 745, 751, 753, 760, 769, 770, 771, 783,\n",
            "       787, 826, 844, 848, 863, 868, 870, 874, 886]),)\n",
            "(array([  2,  36,  37,  96, 112, 148, 154, 204, 207, 229, 249, 264, 275,\n",
            "       277, 284, 300, 328, 378, 380, 398, 419, 489, 492, 494, 532, 572,\n",
            "       598, 600, 609, 618, 624, 627, 638, 662, 674, 676, 706, 733, 746,\n",
            "       802, 811, 845, 880, 894, 900, 901, 902, 903, 904, 905, 906, 907,\n",
            "       908, 909, 910, 911, 912, 913, 914, 915, 916, 917, 918, 919, 920,\n",
            "       921, 922, 923, 924, 925, 926, 927, 928, 929, 930, 931, 932, 933,\n",
            "       934, 937, 938, 939, 940, 941, 942, 943, 944, 945, 946, 947, 948,\n",
            "       949, 950, 951, 952, 953, 954, 955, 956, 957, 958, 959, 960, 961,\n",
            "       962, 963, 964, 966, 967, 968, 969, 970, 971, 972, 973, 974, 975,\n",
            "       976, 977, 978, 979, 980, 981, 982, 983, 984, 985, 986, 987, 988,\n",
            "       989, 990, 991, 992, 993, 994, 995, 996, 999]),)\n"
          ]
        }
      ]
    },
    {
      "cell_type": "code",
      "source": [
        "acima = q3 + 1.5 * iqr\n",
        "abaixo = q1 - 1.5 * iqr\n",
        "\n",
        "# retorna os indices das colunas onde a condição dos parenteses é verdadeira\n",
        "dados_superiores = np.where(tabela['Eixo X']>=acima)\n",
        "dados_inferiores = np.where(tabela['Eixo X']<=abaixo)\n",
        "\n",
        "# retirando\n",
        "novabase = tabela.drop(dados_superiores[0])\n",
        "novabase = tabela.drop(dados_inferiores[0])"
      ],
      "metadata": {
        "id": "Ts85vOS-652E"
      },
      "execution_count": null,
      "outputs": []
    },
    {
      "cell_type": "code",
      "source": [
        "print(f'Antes havia { tabela.shape[0] }')\n",
        "print(f'Agora temos { novabase.shape[0] }')\n",
        "print(f'Foi retirado { tabela.shape[0] - novabase.shape[0] } registros')"
      ],
      "metadata": {
        "colab": {
          "base_uri": "https://localhost:8080/"
        },
        "id": "yitdscHw8k3b",
        "outputId": "e5a622da-2747-4bde-e194-98f259a5efda"
      },
      "execution_count": null,
      "outputs": [
        {
          "output_type": "stream",
          "name": "stdout",
          "text": [
            "Antes havia 1000\n",
            "Agora temos 909\n",
            "Foi retirado 91 registros\n"
          ]
        }
      ]
    },
    {
      "cell_type": "code",
      "source": [
        "# comparativo em gráfico\n",
        "plt.figure( figsize=(15, 6))\n",
        "\n",
        "# antes\n",
        "plt.subplot(1,2,1)\n",
        "plt.title('Dados anteriormente')\n",
        "sns.boxplot(data=tabela, y = 'Eixo X')\n",
        "\n",
        "# depois\n",
        "plt.subplot(1,2,2)\n",
        "plt.title('Dados agora')\n",
        "sns.boxplot(data=novabase, y = 'Eixo X')"
      ],
      "metadata": {
        "colab": {
          "base_uri": "https://localhost:8080/",
          "height": 395
        },
        "id": "wjk2Df1d8xyj",
        "outputId": "5f279a6d-cafd-4b54-feb5-d86a45752129"
      },
      "execution_count": null,
      "outputs": [
        {
          "output_type": "execute_result",
          "data": {
            "text/plain": [
              "<matplotlib.axes._subplots.AxesSubplot at 0x7f396fe32760>"
            ]
          },
          "metadata": {},
          "execution_count": 46
        },
        {
          "output_type": "display_data",
          "data": {
            "text/plain": [
              "<Figure size 1080x432 with 2 Axes>"
            ],
            "image/png": "[encoded data removed]"
          },
          "metadata": {}
        }
      ]
    }
  ]
}